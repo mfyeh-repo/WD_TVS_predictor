{
 "cells": [
  {
   "cell_type": "code",
   "execution_count": 1,
   "id": "64fe4fa7-a719-4343-90bf-9b63f9202280",
   "metadata": {},
   "outputs": [],
   "source": [
    "# 匯入必要套件\n",
    "import numpy as np\n",
    "from tensorflow.keras.models import load_model\n",
    "import joblib\n",
    "import os"
   ]
  },
  {
   "cell_type": "code",
   "execution_count": 2,
   "id": "fa6455a9-5353-4509-a12d-74bd09151a4f",
   "metadata": {},
   "outputs": [],
   "source": [
    "# 設定資料夾路徑\n",
    "data_path = \"TVSdata\"\n",
    "# 設定模型資料夾路徑\n",
    "model_path = \"TVSmodel\""
   ]
  },
  {
   "cell_type": "code",
   "execution_count": 7,
   "id": "8a6dbe59-83c4-4745-81b6-e670ce797250",
   "metadata": {},
   "outputs": [
    {
     "name": "stdin",
     "output_type": "stream",
     "text": [
      "輸入元件編號（例如 D5094 或 D9414）： D9414\n"
     ]
    }
   ],
   "source": [
    "# 輸入元件編號（例如 D5094 或 D9414）\n",
    "PartNumber = input(\"輸入元件編號（例如 D5094 或 D9414）：\")\n",
    "\n",
    "# 組合完整檔案路徑\n",
    "modelpath = os.path.join(model_path,\"TVSmodel_\"+PartNumber+\".h5\")\n",
    "#print(modelpath)"
   ]
  },
  {
   "cell_type": "code",
   "execution_count": 8,
   "id": "af073104-c95c-4b55-b971-6e7589fbe728",
   "metadata": {},
   "outputs": [
    {
     "name": "stdout",
     "output_type": "stream",
     "text": [
      "✅ 模型載入成功\n",
      "✅ X_標準化器載入成功\n",
      "✅ y_標準化器載入成功\n"
     ]
    }
   ],
   "source": [
    "# 載入模型與標準化器\n",
    "try:\n",
    "    model = load_model(modelpath)\n",
    "    print(\"✅ 模型載入成功\")\n",
    "except Exception as e:\n",
    "    print(\"模型載入失敗，錯誤訊息：\", e)\n",
    "\n",
    "# 檢查 scaler_X 檔案是否存在，並嘗試載入\n",
    "file_path = os.path.join(model_path,\"scaler_X_\"+PartNumber+\".pkl\")\n",
    "if os.path.isfile(file_path):\n",
    "    try:\n",
    "        scaler_X = joblib.load(file_path)\n",
    "        print(\"✅ X_標準化器載入成功\")\n",
    "    except Exception as e:\n",
    "        print(\"X_標準化器載入失敗，錯誤訊息：\", e)\n",
    "else:\n",
    "    print(\"X_標準化器檔案不存在\")\n",
    "\n",
    "# 檢查 scaler_y 檔案是否存在，並嘗試載入\n",
    "file_path = os.path.join(model_path,\"scaler_y_\"+PartNumber+\".pkl\")\n",
    "if os.path.isfile(file_path):\n",
    "    try:\n",
    "        scaler_y = joblib.load(file_path)\n",
    "        print(\"✅ y_標準化器載入成功\")\n",
    "    except Exception as e:\n",
    "        print(\"y_標準化器載入失敗，錯誤訊息：\", e)\n",
    "else:\n",
    "    print(\"y_標準化器檔案不存在\")"
   ]
  },
  {
   "cell_type": "code",
   "execution_count": 9,
   "id": "c17d54d9-0e84-47d8-b791-c1d2f412c2af",
   "metadata": {},
   "outputs": [
    {
     "name": "stdout",
     "output_type": "stream",
     "text": [
      "輸入 Vc_1 和 Ipp_1 進行預測，直到輸入 X 或 x 為止\n"
     ]
    },
    {
     "name": "stdin",
     "output_type": "stream",
     "text": [
      "Vc_1 (V):  12.3\n",
      "Ipp_1 (A):  23.4\n"
     ]
    },
    {
     "name": "stdout",
     "output_type": "stream",
     "text": [
      "1/1 [==============================] - 0s 93ms/step\n",
      "✅ 預測 Vc_2: 58.14 V\n",
      "✅ 預測 Ipp_2: 584.35 A\n",
      "\n"
     ]
    },
    {
     "name": "stdin",
     "output_type": "stream",
     "text": [
      "Vc_1 (V):  x\n"
     ]
    },
    {
     "name": "stdout",
     "output_type": "stream",
     "text": [
      "⛔ 結束預測\n"
     ]
    }
   ],
   "source": [
    "# 單筆預測互動迴圈（輸入 x 結束）\n",
    "print(\"輸入 Vc_1 和 Ipp_1 進行預測，直到輸入 X 或 x 為止\")\n",
    "while True:\n",
    "    vcc_input = input(\"Vc_1 (V): \")\n",
    "    if vcc_input.strip().lower() == \"x\":\n",
    "        print(\"⛔ 結束預測\")\n",
    "        break\n",
    "\n",
    "    ipp_input = input(\"Ipp_1 (A): \")\n",
    "    if ipp_input.strip().lower() == \"x\":\n",
    "        print(\"⛔ 結束預測\")\n",
    "        break\n",
    "\n",
    "    try:\n",
    "        vcc1 = float(vcc_input)\n",
    "        ipp1 = float(ipp_input)\n",
    "        X_input = np.array([[vcc1, ipp1]])\n",
    "        X_scaled = scaler_X.transform(X_input)\n",
    "        y_scaled_pred = model.predict(X_scaled)\n",
    "        y_pred = scaler_y.inverse_transform(y_scaled_pred)\n",
    "\n",
    "        print(f\"✅ 預測 Vc_2: {y_pred[0][0]:.2f} V\")\n",
    "        print(f\"✅ 預測 Ipp_2: {y_pred[0][1]:.2f} A\\n\")\n",
    "\n",
    "    except Exception as e:\n",
    "        print(f\"⚠️ 輸入錯誤：{e}\\n\")"
   ]
  },
  {
   "cell_type": "code",
   "execution_count": null,
   "id": "0117c1c6-3a33-48a0-bdf6-f35f1985f2ad",
   "metadata": {},
   "outputs": [],
   "source": []
  }
 ],
 "metadata": {
  "kernelspec": {
   "display_name": "Python 3 (ipykernel)",
   "language": "python",
   "name": "python3"
  },
  "language_info": {
   "codemirror_mode": {
    "name": "ipython",
    "version": 3
   },
   "file_extension": ".py",
   "mimetype": "text/x-python",
   "name": "python",
   "nbconvert_exporter": "python",
   "pygments_lexer": "ipython3",
   "version": "3.9.18"
  }
 },
 "nbformat": 4,
 "nbformat_minor": 5
}
