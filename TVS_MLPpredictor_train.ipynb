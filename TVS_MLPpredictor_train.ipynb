{
 "cells": [
  {
   "cell_type": "code",
   "execution_count": 1,
   "id": "35b686b7-23e2-408b-aa46-f47c4e03f760",
   "metadata": {},
   "outputs": [],
   "source": [
    "# 匯入必要套件\n",
    "import os\n",
    "import pandas as pd\n",
    "import numpy as np\n",
    "from sklearn.model_selection import train_test_split\n",
    "from sklearn.preprocessing import StandardScaler\n",
    "from tensorflow.keras.models import Sequential, load_model\n",
    "from tensorflow.keras.layers import Dense\n",
    "from tensorflow.keras.optimizers import Adam\n",
    "import matplotlib.pyplot as plt"
   ]
  },
  {
   "cell_type": "code",
   "execution_count": 2,
   "id": "90bf9cef-5e8a-4a13-b8e3-6b0051a31ae9",
   "metadata": {},
   "outputs": [],
   "source": [
    "# 設定資料夾路徑\n",
    "data_path = \"TVSdata\"\n",
    "# 確保 modeldata 資料夾存在，否則自動建立\n",
    "model_path = \"TVSmodel\"\n",
    "os.makedirs(model_path, exist_ok=True)"
   ]
  },
  {
   "cell_type": "code",
   "execution_count": 3,
   "id": "ac27a323-3819-4c83-a882-9c06aeb35fe8",
   "metadata": {},
   "outputs": [
    {
     "name": "stdin",
     "output_type": "stream",
     "text": [
      "輸入元件編號（例如 D5094 或 D9414）： D9414\n"
     ]
    }
   ],
   "source": [
    "# 輸入元件編號（例如 D5094 或 D9414）\n",
    "PartNumber = input(\"輸入元件編號（例如 D5094 或 D9414）：\")\n",
    "\n",
    "# 組合完整檔案路徑\n",
    "file_path = os.path.join(data_path, \"TVSdata_\"+PartNumber+\".xlsx\")\n",
    "# print(file_path)"
   ]
  },
  {
   "cell_type": "code",
   "execution_count": 4,
   "id": "24213ac2-a9b8-4450-b72a-4ee2c51afa74",
   "metadata": {},
   "outputs": [
    {
     "name": "stdout",
     "output_type": "stream",
     "text": [
      "檔案載入成功！\n",
      "     UniNumber     BiNumber UniCode BiCode  Vrwm  Vbr_min  Vbr_max  It   Ir  \\\n",
      "0  D9414-110UF  D9414-110UF     PDZ    DDZ    11     12.2     13.5   1  800   \n",
      "1  D9414-120UF  D9414-120UF     PEE    DEE    12     13.3     14.7   1  800   \n",
      "2  D9414-130UF  D9414-130UF     PEG    DEG    13     14.4     15.9   1  500   \n",
      "3  D9414-140UF  D9414-140UF     PEK    DEK    14     15.6     17.2   1  200   \n",
      "4  D9414-150UF  D9414-150UF     PEM    DEM    15     16.7     18.5   1  200   \n",
      "\n",
      "   Vc_1  Ipp_1  Vc_2  Ipp_2  \n",
      "0  18.2  164.8   NaN    NaN  \n",
      "1  19.9  150.8   NaN    NaN  \n",
      "2  21.5  139.5   NaN    NaN  \n",
      "3  23.2  129.3   NaN    NaN  \n",
      "4  24.4  123.0   NaN    NaN  \n"
     ]
    }
   ],
   "source": [
    "# 檢查檔案是否存在\n",
    "if os.path.isfile(file_path):\n",
    "    # 嘗試讀取 Excel 檔案\n",
    "    try:\n",
    "        df = pd.read_excel(file_path)\n",
    "        print(\"檔案載入成功！\")\n",
    "        # 顯示前幾筆資料作為確認\n",
    "        print(df.head())\n",
    "    except Exception as e:\n",
    "        print(f\"檔案讀取失敗，錯誤訊息：{e}\")\n",
    "else:\n",
    "    print(\"檔案不存在，請確認輸入的檔名是否正確。\")"
   ]
  },
  {
   "cell_type": "code",
   "execution_count": 5,
   "id": "24a64704-c8d1-450f-8169-8cfb0b1f8841",
   "metadata": {},
   "outputs": [],
   "source": [
    "# 清洗資料\n",
    "df_clean = df.dropna(subset=[\"Vc_1\", \"Ipp_1\", \"Vc_2\", \"Ipp_2\"])\n",
    "\n",
    "X = df_clean[[\"Vc_1\", \"Ipp_1\"]].values\n",
    "y = df_clean[[\"Vc_2\", \"Ipp_2\"]].values\n",
    "# 標準化\n",
    "scaler_X = StandardScaler()\n",
    "scaler_y = StandardScaler()\n",
    "X_scaled = scaler_X.fit_transform(X)\n",
    "y_scaled = scaler_y.fit_transform(y)"
   ]
  },
  {
   "cell_type": "code",
   "execution_count": 6,
   "id": "5b1d6289-085b-4b9d-8aad-7cf7a15dc6ef",
   "metadata": {},
   "outputs": [
    {
     "data": {
      "text/plain": [
       "['TVSmodel\\\\scaler_y_D9414.pkl']"
      ]
     },
     "execution_count": 6,
     "metadata": {},
     "output_type": "execute_result"
    }
   ],
   "source": [
    "import joblib\n",
    "joblib.dump(scaler_X, os.path.join(model_path,\"scaler_X_\"+PartNumber+\".pkl\"))\n",
    "joblib.dump(scaler_y, os.path.join(model_path,\"scaler_y_\"+PartNumber+\".pkl\"))"
   ]
  },
  {
   "cell_type": "code",
   "execution_count": 7,
   "id": "73370b77-970a-4799-a14b-29dba023f05d",
   "metadata": {},
   "outputs": [],
   "source": [
    "# 分割訓練/測試\n",
    "X_train, X_test, y_train, y_test = train_test_split(X_scaled, y_scaled, test_size=0.2, random_state=42)"
   ]
  },
  {
   "cell_type": "code",
   "execution_count": 8,
   "id": "d8fc85b1-2f61-4956-9523-eda84146920e",
   "metadata": {},
   "outputs": [],
   "source": [
    "# 建立 Keras MLP 模型\n",
    "model = Sequential([\n",
    "    Dense(64, input_shape=(2,), activation='relu'),\n",
    "    Dense(64, activation='relu'),\n",
    "    Dense(2)\n",
    "])\n",
    "model.compile(optimizer=Adam(learning_rate=0.001), loss='mse')\n",
    "history = model.fit(X_train, y_train, epochs=1500, batch_size=4, verbose=0, validation_split=0.2)"
   ]
  },
  {
   "cell_type": "code",
   "execution_count": 9,
   "id": "7e433078-5b71-45f2-b5b3-913655f540a0",
   "metadata": {},
   "outputs": [
    {
     "name": "stdout",
     "output_type": "stream",
     "text": [
      "Train Loss: 0.0\n",
      "Val Loss: 0.2433621734380722\n"
     ]
    }
   ],
   "source": [
    "print('Train Loss:', history.history['loss'][-1])\n",
    "print('Val Loss:', history.history['val_loss'][-1])"
   ]
  },
  {
   "cell_type": "code",
   "execution_count": 10,
   "id": "567fb6b4-018a-4cbb-ac00-8a4169b84878",
   "metadata": {},
   "outputs": [
    {
     "data": {
      "image/png": "[encoded data removed]",
      "text/plain": [
       "<Figure size 640x480 with 1 Axes>"
      ]
     },
     "metadata": {},
     "output_type": "display_data"
    }
   ],
   "source": [
    "# 繪製 Loss 曲線\n",
    "plt.plot(history.history['loss'], label='Train Loss')\n",
    "plt.plot(history.history['val_loss'], label='Val Loss')\n",
    "plt.xlabel(\"Epoch\")\n",
    "plt.ylabel(\"Loss\")\n",
    "plt.title(\"Training Curve\")\n",
    "plt.grid(True)\n",
    "plt.legend()\n",
    "plt.show()"
   ]
  },
  {
   "cell_type": "code",
   "execution_count": 11,
   "id": "e96a24fc-2fb9-4b3e-95aa-7805d835418c",
   "metadata": {},
   "outputs": [],
   "source": [
    "# 儲存模型\n",
    "model.save(os.path.join(model_path,\"TVSmodel_\"+PartNumber+\".h5\"))"
   ]
  },
  {
   "cell_type": "code",
   "execution_count": 12,
   "id": "8dc3544c-8ec3-4b31-9ac8-7aa1e424e24d",
   "metadata": {},
   "outputs": [
    {
     "name": "stdout",
     "output_type": "stream",
     "text": [
      "1/1 [==============================] - 0s 49ms/step\n"
     ]
    }
   ],
   "source": [
    "# 預測與反標準化\n",
    "y_pred_scaled = model.predict(X_test)\n",
    "y_pred = scaler_y.inverse_transform(y_pred_scaled)\n",
    "y_true = scaler_y.inverse_transform(y_test)"
   ]
  },
  {
   "cell_type": "code",
   "execution_count": 13,
   "id": "066f6a4d-7f56-4a56-a712-b8f500a6ed17",
   "metadata": {},
   "outputs": [
    {
     "name": "stdout",
     "output_type": "stream",
     "text": [
      "   Vc_2_Pred  Ipp_2_Pred  Vc_2_True  Ipp_2_True\n",
      "0  64.713264  739.963318       61.9       784.0\n"
     ]
    }
   ],
   "source": [
    "# 顯示部分預測結果\n",
    "result_df = pd.DataFrame({\n",
    "    \"Vc_2_Pred\": y_pred[:, 0],\n",
    "    \"Ipp_2_Pred\": y_pred[:, 1],\n",
    "    \"Vc_2_True\": y_true[:, 0],\n",
    "    \"Ipp_2_True\": y_true[:, 1]\n",
    "})\n",
    "print(result_df.head())"
   ]
  }
 ],
 "metadata": {
  "kernelspec": {
   "display_name": "Python 3 (ipykernel)",
   "language": "python",
   "name": "python3"
  },
  "language_info": {
   "codemirror_mode": {
    "name": "ipython",
    "version": 3
   },
   "file_extension": ".py",
   "mimetype": "text/x-python",
   "name": "python",
   "nbconvert_exporter": "python",
   "pygments_lexer": "ipython3",
   "version": "3.9.18"
  }
 },
 "nbformat": 4,
 "nbformat_minor": 5
}
